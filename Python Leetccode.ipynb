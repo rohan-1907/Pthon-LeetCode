{
 "cells": [
  {
   "cell_type": "code",
   "execution_count": 7,
   "id": "9d335323",
   "metadata": {},
   "outputs": [
    {
     "data": {
      "text/plain": [
       "3"
      ]
     },
     "execution_count": 7,
     "metadata": {},
     "output_type": "execute_result"
    }
   ],
   "source": [
    "lis = [1,2,3,3]\n",
    "limit = 3\n",
    "left = 0\n",
    "right = len(lis)-1\n",
    "no_boat = 0\n",
    "while left<=right:\n",
    "    \n",
    "    if lis[left] + lis[right] <= limit:\n",
    "        left += 1\n",
    "        right -= 1\n",
    "        no_boat += 1\n",
    "        \n",
    "    elif lis[right] <= limit:\n",
    "        right -= 1\n",
    "        no_boat += 1\n",
    "        \n",
    "no_boat"
   ]
  },
  {
   "cell_type": "code",
   "execution_count": 4,
   "id": "6b38b2fe",
   "metadata": {},
   "outputs": [
    {
     "name": "stdout",
     "output_type": "stream",
     "text": [
      "8\n"
     ]
    }
   ],
   "source": [
    "lis = [0,2,3,4,5,2,1,0]\n",
    "\n",
    "i = 1\n",
    "\n",
    "while lis[i] > lis[i-1]:\n",
    "    i += 1\n",
    "    \n",
    "if i==1 or i==len(lis):\n",
    "    print('False')\n",
    "    \n",
    "while i<len(lis) and lis[i]<lis[i-1]:\n",
    "    i+=1\n",
    "    \n",
    "print(i)"
   ]
  },
  {
   "cell_type": "code",
   "execution_count": 1,
   "id": "0e7be8f9",
   "metadata": {},
   "outputs": [
    {
     "data": {
      "text/plain": [
       "2"
      ]
     },
     "execution_count": 1,
     "metadata": {},
     "output_type": "execute_result"
    }
   ],
   "source": [
    "min(2,3)"
   ]
  },
  {
   "cell_type": "code",
   "execution_count": 5,
   "id": "2ced924b",
   "metadata": {},
   "outputs": [
    {
     "data": {
      "text/plain": [
       "8"
      ]
     },
     "execution_count": 5,
     "metadata": {},
     "output_type": "execute_result"
    }
   ],
   "source": [
    "stng = 'abcdeabcdefghcc'\n",
    "\n",
    "j = 1\n",
    "l = 0\n",
    "ans = 0\n",
    "a = 0\n",
    "\n",
    "for i in range(1,len(stng)):\n",
    "    \n",
    "    if stng[i] in stng[a:i]:\n",
    "        ans = max(len(stng[a:i]),ans)\n",
    "        a = i\n",
    "        \n",
    "#     elif stng[i] not in stng[a:i]:\n",
    "#         l += 1\n",
    "ans"
   ]
  },
  {
   "cell_type": "code",
   "execution_count": 6,
   "id": "221925cd",
   "metadata": {},
   "outputs": [
    {
     "data": {
      "text/plain": [
       "'abcdabccc'"
      ]
     },
     "execution_count": 6,
     "metadata": {},
     "output_type": "execute_result"
    }
   ],
   "source": [
    "stng[:9]"
   ]
  },
  {
   "cell_type": "code",
   "execution_count": null,
   "id": "d35aa84c",
   "metadata": {},
   "outputs": [],
   "source": []
  }
 ],
 "metadata": {
  "kernelspec": {
   "display_name": "Python 3 (ipykernel)",
   "language": "python",
   "name": "python3"
  },
  "language_info": {
   "codemirror_mode": {
    "name": "ipython",
    "version": 3
   },
   "file_extension": ".py",
   "mimetype": "text/x-python",
   "name": "python",
   "nbconvert_exporter": "python",
   "pygments_lexer": "ipython3",
   "version": "3.9.7"
  }
 },
 "nbformat": 4,
 "nbformat_minor": 5
}
